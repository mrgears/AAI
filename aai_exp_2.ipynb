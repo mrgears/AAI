{
  "nbformat": 4,
  "nbformat_minor": 0,
  "metadata": {
    "colab": {
      "provenance": []
    },
    "kernelspec": {
      "name": "python3",
      "display_name": "Python 3"
    },
    "language_info": {
      "name": "python"
    }
  },
  "cells": [
    {
      "cell_type": "code",
      "source": [
        "!pip install pgmpy"
      ],
      "metadata": {
        "id": "v2pqsMDB4y89"
      },
      "execution_count": null,
      "outputs": []
    },
    {
      "cell_type": "code",
      "execution_count": null,
      "metadata": {
        "colab": {
          "base_uri": "https://localhost:8080/"
        },
        "id": "iqai5lXV2lQG",
        "outputId": "844021a6-47cd-427e-849c-9182a4559fc9"
      },
      "outputs": [
        {
          "output_type": "stream",
          "name": "stdout",
          "text": [
            "+------+----------+\n",
            "| D    |   phi(D) |\n",
            "+======+==========+\n",
            "| D(0) |   0.0886 |\n",
            "+------+----------+\n",
            "| D(1) |   0.9114 |\n",
            "+------+----------+\n"
          ]
        }
      ],
      "source": [
        "from pgmpy.models import BayesianNetwork\n",
        "from pgmpy.factors.discrete import TabularCPD\n",
        "from pgmpy.inference import VariableElimination\n",
        "\n",
        "# Create an empty Bayesian Network\n",
        "model = BayesianNetwork()\n",
        "\n",
        "# Define the variables\n",
        "variables = ['D', 'S1', 'S2', 'T']\n",
        "\n",
        "# Define the structure of the network\n",
        "model.add_edges_from([('D', 'S1'), ('D', 'S2'), ('D', 'T')])\n",
        "\n",
        "# Define the conditional probability tables (CPTs)\n",
        "cpd_disease = TabularCPD(variable='D', variable_card=2, values=[[0.7], [0.3]])\n",
        "\n",
        "cpd_symptom1 = TabularCPD(variable='S1', variable_card=2, values=[[0.9, 0.2], [0.1, 0.8]], evidence=['D'], evidence_card=[2])\n",
        "\n",
        "cpd_symptom2 = TabularCPD(variable='S2', variable_card=2, values=[[0.8, 0.3], [0.2, 0.7]], evidence=['D'], evidence_card=[2])\n",
        "\n",
        "cpd_test = TabularCPD(variable='T', variable_card=2, values=[[0.9, 0.2], [0.1, 0.8]], evidence=['D'], evidence_card=[2])\n",
        "\n",
        "# Add the CPTs to the model\n",
        "model.add_cpds(cpd_disease, cpd_symptom1, cpd_symptom2, cpd_test)\n",
        "\n",
        "# Check if the model is valid\n",
        "model.check_model()\n",
        "\n",
        "# Create an inference object\n",
        "inference = VariableElimination(model)\n",
        "\n",
        "# Compute the probability of disease given evidence\n",
        "evidence = {'S1': 1, 'S2': 0, 'T': 1}  # Example evidence\n",
        "predicted_prob = inference.query(variables=['D'], evidence=evidence)\n",
        "print(predicted_prob)\n"
      ]
    }
  ]
}