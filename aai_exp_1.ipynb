{
  "nbformat": 4,
  "nbformat_minor": 0,
  "metadata": {
    "colab": {
      "provenance": []
    },
    "kernelspec": {
      "name": "python3",
      "display_name": "Python 3"
    },
    "language_info": {
      "name": "python"
    }
  },
  "cells": [
    {
      "cell_type": "code",
      "execution_count": null,
      "metadata": {
        "colab": {
          "base_uri": "https://localhost:8080/"
        },
        "id": "NiVhArBe7EKG",
        "outputId": "65ca45c8-9750-4841-fb77-4f96ef868089"
      },
      "outputs": [
        {
          "output_type": "stream",
          "name": "stdout",
          "text": [
            "Forward Probabilities:\n",
            "[[0.45       0.0355     0.078525   0.05697675 0.00427691]\n",
            " [0.1        0.156      0.02085    0.0072135  0.0171369 ]]\n",
            "Probability of Observed Sequence: 0.021413812500000004\n"
          ]
        }
      ],
      "source": [
        "import numpy as np\n",
        "\n",
        "# Define the HMM parameters (transition and emission probabilities)\n",
        "\n",
        "transition_matrix = np.array([[0.7, 0.3], [0.4, 0.6]])\n",
        "\n",
        "emission_matrix = np.array([[0.9, 0.1], [0.2, 0.8]])\n",
        "\n",
        "initial_state_probabilities = np.array([0.5, 0.5])\n",
        "\n",
        "# Define the observed sequence\n",
        "\n",
        "observed_sequence = [0, 1, 0, 0, 1]  # Example sequence: [A, B, A, A, B]\n",
        "\n",
        "# Initialize the forward probabilities matrix\n",
        "\n",
        "num_states = len(initial_state_probabilities)\n",
        "\n",
        "num_obs = len(observed_sequence)\n",
        "\n",
        "forward_probabilities = np.zeros((num_states, num_obs))\n",
        "\n",
        "# Initialize the first column of forward probabilities\n",
        "\n",
        "forward_probabilities[:, 0] = initial_state_probabilities * emission_matrix[:, observed_sequence[0]]\n",
        "\n",
        "# Forward Algorithm\n",
        "\n",
        "for t in range(1, num_obs):\n",
        "    for s in range(num_states):\n",
        "        forward_probabilities[s, t] = np.sum(forward_probabilities[:, t - 1] * transition_matrix[:, s]) * emission_matrix[s, observed_sequence[t]]\n",
        "\n",
        "# Calculate the probability of the observed sequence\n",
        "\n",
        "probability_observed_sequence = np.sum(forward_probabilities[:, -1])\n",
        "\n",
        "print(\"Forward Probabilities:\")\n",
        "print(forward_probabilities)\n",
        "print(\"Probability of Observed Sequence:\", probability_observed_sequence)\n"
      ]
    }
  ]
}